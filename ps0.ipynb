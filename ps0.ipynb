{
 "cells": [
  {
   "cell_type": "markdown",
   "metadata": {},
   "source": [
    "Owen Galinac\n",
    "\n",
    " - collaborator 1\n",
    " - collaborator 2"
   ]
  },
  {
   "cell_type": "markdown",
   "metadata": {
    "vscode": {
     "languageId": "plaintext"
    }
   },
   "source": [
    "# Problem Set 0\n",
    "\n",
    "Congrats! You've successfully cloned the our first warm-up problem set.\n",
    "\n",
    "This problem set will be collected (so you get practice committing and pushing your GitHub repository), but it will not be graded as an assignment.\n",
    "\n",
    "The purpose of this assignment is to familiarize ourselves with the Visual Studio Code IDE and to refresh some coding skills that you may not have exercised in a while. Let's go!"
   ]
  },
  {
   "cell_type": "markdown",
   "metadata": {},
   "source": [
    "## The coding part\n",
    "\n",
    "First, let's import some of our favorite packages: numpy, pandas, and matplotlib.pyplot"
   ]
  },
  {
   "cell_type": "code",
   "execution_count": 1,
   "metadata": {},
   "outputs": [],
   "source": [
    "import numpy as np\n",
    "import matplotlib.pyplot as plt\n"
   ]
  },
  {
   "cell_type": "markdown",
   "metadata": {},
   "source": [
    "## Let's start coding\n",
    "\n",
    "We'll reserve this next cell for some functions we'll write."
   ]
  },
  {
   "cell_type": "code",
   "execution_count": 17,
   "metadata": {},
   "outputs": [],
   "source": [
    "def line(m=0, b=0):\n",
    "    return lambda x:m*x+b\n",
    "\n",
    "line1 = line(1,1)\n",
    "z = np.array([1,2,3])\n",
    "line1(z)\n",
    "\n",
    "def residuals(model, x, y):\n",
    "    return y - model(x)\n",
    "\n",
    "def plot_residuals(model, x, y, ax=None):\n",
    "    if ax is None:\n",
    "        fig, ax = plt.subplots(1,1, figsize = (6,6))\n",
    "    y_model = model(x)\n",
    "    X= np.vstack([x,x])\n",
    "    Y = np.vstack([y, y_model])\n",
    "    h = ax.plot(X,Y, color = 'salmon')\n",
    "    return h\n",
    "def rmse(model,x,y):\n",
    "    return np.sqrt(np.mean(residuals(model,x,y)**2))"
   ]
  },
  {
   "cell_type": "markdown",
   "metadata": {},
   "source": [
    "First, let's fabricate some data.\n",
    "\n",
    " - For our x-values, let's generate some 20 random samples in the range (-5,5)\n",
    " - For our y-values, we'll have them be a linear (affine actually) function of x, with some noise. Use slope of 0.8 and y-intercept of 2.3 and add normally distributed noise.\n",
    "We'll generate some random samples "
   ]
  },
  {
   "cell_type": "code",
   "execution_count": 8,
   "metadata": {},
   "outputs": [],
   "source": [
    "num_data = 20\n",
    "np.random.seed(2025)\n",
    "x = np.sort(10*np.random.rand(num_data)-5)\n",
    "y = 0.8*x+2.3 + np.random.randn(num_data)\n"
   ]
  },
  {
   "cell_type": "code",
   "execution_count": null,
   "metadata": {},
   "outputs": [
    {
     "data": {
      "text/plain": [
       "<function matplotlib.pyplot.show(close=None, block=None)>"
      ]
     },
     "execution_count": 18,
     "metadata": {},
     "output_type": "execute_result"
    },
    {
     "data": {
      "image/png": "[encoded data removed]",
      "text/plain": [
       "<Figure size 600x600 with 1 Axes>"
      ]
     },
     "metadata": {},
     "output_type": "display_data"
    }
   ],
   "source": [
    "model = line(0.5)\n",
    "fig, ax = plt.subplots(1,1, figsize = (6,6))\n",
    "ax.plot(x,y,'.', label = 'data')\n",
    "ax.plot(x, model(x), 'k--', label = 'model')\n",
    "plot_residuals(model, x, y, ax = ax)\n",
    "plt.show\n"
   ]
  },
  {
   "cell_type": "markdown",
   "metadata": {},
   "source": [
    "## Plotting and writing functions\n",
    "\n",
    "First, let's plot the data.\n",
    "\n",
    "We'll also want to plot:\n",
    " - A line with slope and intercept of our choosing.\n",
    " - residuals (distances from a line to the data)\n",
    " - Calculate the RMSE error\n",
    "\n",
    " $ RMSE = \\sqrt{\\frac{1}{n}\\sum^{n}_{j=1} (y_j - f(x_j))^2}$"
   ]
  },
  {
   "cell_type": "code",
   "execution_count": null,
   "metadata": {},
   "outputs": [],
   "source": [
    "\n"
   ]
  },
  {
   "cell_type": "markdown",
   "metadata": {},
   "source": [
    "## Trying different models\n",
    "\n",
    "We'll write a loop to calculate the RMSE for lines (models) of different slopes."
   ]
  },
  {
   "cell_type": "code",
   "execution_count": null,
   "metadata": {},
   "outputs": [],
   "source": []
  },
  {
   "cell_type": "markdown",
   "metadata": {},
   "source": [
    "### Can our model be improved?\n",
    "\n",
    "Why is our best fit model not that good?"
   ]
  },
  {
   "cell_type": "code",
   "execution_count": null,
   "metadata": {},
   "outputs": [],
   "source": []
  }
 ],
 "metadata": {
  "kernelspec": {
   "display_name": "base",
   "language": "python",
   "name": "python3"
  },
  "language_info": {
   "codemirror_mode": {
    "name": "ipython",
    "version": 3
   },
   "file_extension": ".py",
   "mimetype": "text/x-python",
   "name": "python",
   "nbconvert_exporter": "python",
   "pygments_lexer": "ipython3",
   "version": "3.12.4"
  }
 },
 "nbformat": 4,
 "nbformat_minor": 2
}
